{
 "cells": [
  {
   "cell_type": "markdown",
   "id": "5e8b7ec1-534e-4240-984e-f1a6e3acfe52",
   "metadata": {},
   "source": [
    "# Sentiment Analysis using VaderSentiment"
   ]
  },
  {
   "cell_type": "code",
   "execution_count": 1,
   "id": "a7f3af1e-6715-4c50-aca0-6b12b8c2b9d7",
   "metadata": {},
   "outputs": [],
   "source": [
    "import pandas as pd"
   ]
  },
  {
   "cell_type": "code",
   "execution_count": 4,
   "id": "28c4c83d-4098-456e-803a-0a62403f76d0",
   "metadata": {},
   "outputs": [],
   "source": [
    "pd.set_option('display.max_colwidth', None)"
   ]
  },
  {
   "cell_type": "code",
   "execution_count": 7,
   "id": "20b263f6-4d3a-4c59-87e4-d5044112fee3",
   "metadata": {},
   "outputs": [
    {
     "data": {
      "text/html": [
       "<div>\n",
       "<style scoped>\n",
       "    .dataframe tbody tr th:only-of-type {\n",
       "        vertical-align: middle;\n",
       "    }\n",
       "\n",
       "    .dataframe tbody tr th {\n",
       "        vertical-align: top;\n",
       "    }\n",
       "\n",
       "    .dataframe thead th {\n",
       "        text-align: right;\n",
       "    }\n",
       "</style>\n",
       "<table border=\"1\" class=\"dataframe\">\n",
       "  <thead>\n",
       "    <tr style=\"text-align: right;\">\n",
       "      <th></th>\n",
       "      <th>movie_title</th>\n",
       "      <th>rating</th>\n",
       "      <th>genre</th>\n",
       "      <th>in_theaters_date</th>\n",
       "      <th>movie_info</th>\n",
       "      <th>directors</th>\n",
       "      <th>director_gender</th>\n",
       "      <th>tomatometer_rating</th>\n",
       "      <th>audience_rating</th>\n",
       "      <th>critics_consensus</th>\n",
       "    </tr>\n",
       "  </thead>\n",
       "  <tbody>\n",
       "    <tr>\n",
       "      <th>0</th>\n",
       "      <td>A Dog's Journey</td>\n",
       "      <td>PG</td>\n",
       "      <td>Drama, Kids &amp; Family</td>\n",
       "      <td>5/17/19</td>\n",
       "      <td>Bailey (voiced again by Josh Gad) is living the good life on the Michigan farm of his \"boy,\" Ethan (Dennis Quaid) and Ethan's wife Hannah (Marg Helgenberger). He even has a new playmate: Ethan and Hannah's baby granddaughter, CJ. The problem is that CJ's mom, Gloria (Betty Gilpin), decides to take CJ away. As Bailey's soul prepares to leave this life for a new one, he makes a promise to Ethan to find CJ and protect her at any cost. Thus begins Bailey's adventure through multiple lives filled with love, friendship and devotion as he, CJ (Kathryn Prescott), and CJ's best friend Trent (Henry Lau) experience joy and heartbreak, music and laughter, and few really good belly rubs.</td>\n",
       "      <td>Gail Mancuso</td>\n",
       "      <td>female</td>\n",
       "      <td>50</td>\n",
       "      <td>92</td>\n",
       "      <td>A Dog's Journey is as sentimental as one might expect, but even cynical viewers may find their ability to resist shedding a tear stretched to the puppermost limit.</td>\n",
       "    </tr>\n",
       "    <tr>\n",
       "      <th>1</th>\n",
       "      <td>A Dog's Way Home</td>\n",
       "      <td>PG</td>\n",
       "      <td>Drama</td>\n",
       "      <td>1/11/19</td>\n",
       "      <td>Separated from her owner, a dog sets off on an 400-mile journey to get back to the safety and security of the place she calls home. Along the way, she meets a series of new friends and manages to bring a little bit of comfort and joy to their lives.</td>\n",
       "      <td>Charles Martin Smith</td>\n",
       "      <td>male</td>\n",
       "      <td>60</td>\n",
       "      <td>71</td>\n",
       "      <td>A Dog's Way Home may not quite be a family-friendly animal drama fan's best friend, but this canine adventure is no less heartwarming for its familiarity.</td>\n",
       "    </tr>\n",
       "  </tbody>\n",
       "</table>\n",
       "</div>"
      ],
      "text/plain": [
       "        movie_title rating                 genre in_theaters_date  \\\n",
       "0   A Dog's Journey     PG  Drama, Kids & Family          5/17/19   \n",
       "1  A Dog's Way Home     PG                 Drama          1/11/19   \n",
       "\n",
       "                                                                                                                                                                                                                                                                                                                                                                                                                                                                                                                                                                                                                                                                                                    movie_info  \\\n",
       "0  Bailey (voiced again by Josh Gad) is living the good life on the Michigan farm of his \"boy,\" Ethan (Dennis Quaid) and Ethan's wife Hannah (Marg Helgenberger). He even has a new playmate: Ethan and Hannah's baby granddaughter, CJ. The problem is that CJ's mom, Gloria (Betty Gilpin), decides to take CJ away. As Bailey's soul prepares to leave this life for a new one, he makes a promise to Ethan to find CJ and protect her at any cost. Thus begins Bailey's adventure through multiple lives filled with love, friendship and devotion as he, CJ (Kathryn Prescott), and CJ's best friend Trent (Henry Lau) experience joy and heartbreak, music and laughter, and few really good belly rubs.   \n",
       "1                                                                                                                                                                                                                                                                                                                                                                                                                                                    Separated from her owner, a dog sets off on an 400-mile journey to get back to the safety and security of the place she calls home. Along the way, she meets a series of new friends and manages to bring a little bit of comfort and joy to their lives.   \n",
       "\n",
       "              directors director_gender  tomatometer_rating  audience_rating  \\\n",
       "0          Gail Mancuso          female                  50               92   \n",
       "1  Charles Martin Smith            male                  60               71   \n",
       "\n",
       "                                                                                                                                                     critics_consensus  \n",
       "0  A Dog's Journey is as sentimental as one might expect, but even cynical viewers may find their ability to resist shedding a tear stretched to the puppermost limit.  \n",
       "1           A Dog's Way Home may not quite be a family-friendly animal drama fan's best friend, but this canine adventure is no less heartwarming for its familiarity.  "
      ]
     },
     "execution_count": 7,
     "metadata": {},
     "output_type": "execute_result"
    }
   ],
   "source": [
    "df = pd.read_csv('movie_reviews.csv')\n",
    "df.head(2)"
   ]
  },
  {
   "cell_type": "code",
   "execution_count": 8,
   "id": "5d6a8f8b-ce81-4f11-a426-6f7c839b3d40",
   "metadata": {},
   "outputs": [
    {
     "data": {
      "text/plain": [
       "(166, 10)"
      ]
     },
     "execution_count": 8,
     "metadata": {},
     "output_type": "execute_result"
    }
   ],
   "source": [
    "df.shape"
   ]
  },
  {
   "cell_type": "code",
   "execution_count": 15,
   "id": "e5793f5e-38b8-4a0c-a2a4-7b44c5afefbf",
   "metadata": {},
   "outputs": [],
   "source": [
    "from vaderSentiment.vaderSentiment import SentimentIntensityAnalyzer\n",
    "\n",
    "analyzer = SentimentIntensityAnalyzer()"
   ]
  },
  {
   "cell_type": "code",
   "execution_count": 16,
   "id": "320ea15d-ce1b-492e-9785-687e8d98ffb4",
   "metadata": {},
   "outputs": [
    {
     "data": {
      "text/plain": [
       "'Bailey (voiced again by Josh Gad) is living the good life on the Michigan farm of his \"boy,\" Ethan (Dennis Quaid) and Ethan\\'s wife Hannah (Marg Helgenberger). He even has a new playmate: Ethan and Hannah\\'s baby granddaughter, CJ. The problem is that CJ\\'s mom, Gloria (Betty Gilpin), decides to take CJ away. As Bailey\\'s soul prepares to leave this life for a new one, he makes a promise to Ethan to find CJ and protect her at any cost. Thus begins Bailey\\'s adventure through multiple lives filled with love, friendship and devotion as he, CJ (Kathryn Prescott), and CJ\\'s best friend Trent (Henry Lau) experience joy and heartbreak, music and laughter, and few really good belly rubs.'"
      ]
     },
     "execution_count": 16,
     "metadata": {},
     "output_type": "execute_result"
    }
   ],
   "source": [
    "df.movie_info[0]"
   ]
  },
  {
   "cell_type": "code",
   "execution_count": 19,
   "id": "5d6bb55e-3605-4667-94d6-2fb30e13859b",
   "metadata": {},
   "outputs": [
    {
     "name": "stdout",
     "output_type": "stream",
     "text": [
      "All scores:  {'neg': 0.051, 'neu': 0.694, 'pos': 0.255, 'compound': 0.9837}\n",
      "Final Score:  0.9837\n"
     ]
    }
   ],
   "source": [
    "sentiment = analyzer.polarity_scores(df.movie_info[0])\n",
    "print('All scores: ', sentiment)\n",
    "print('Final Score: ', sentiment['compound'])"
   ]
  },
  {
   "cell_type": "code",
   "execution_count": 20,
   "id": "25933269-709c-4b03-96f0-92703dafcbb1",
   "metadata": {},
   "outputs": [],
   "source": [
    "def get_sentiment(text):\n",
    "    return analyzer.polarity_scores(text)['compound']"
   ]
  },
  {
   "cell_type": "code",
   "execution_count": 23,
   "id": "c16a05cd-90d1-481d-8a0a-cde1872e92bd",
   "metadata": {},
   "outputs": [
    {
     "data": {
      "text/html": [
       "<div>\n",
       "<style scoped>\n",
       "    .dataframe tbody tr th:only-of-type {\n",
       "        vertical-align: middle;\n",
       "    }\n",
       "\n",
       "    .dataframe tbody tr th {\n",
       "        vertical-align: top;\n",
       "    }\n",
       "\n",
       "    .dataframe thead th {\n",
       "        text-align: right;\n",
       "    }\n",
       "</style>\n",
       "<table border=\"1\" class=\"dataframe\">\n",
       "  <thead>\n",
       "    <tr style=\"text-align: right;\">\n",
       "      <th></th>\n",
       "      <th>movie_title</th>\n",
       "      <th>rating</th>\n",
       "      <th>genre</th>\n",
       "      <th>in_theaters_date</th>\n",
       "      <th>movie_info</th>\n",
       "      <th>directors</th>\n",
       "      <th>director_gender</th>\n",
       "      <th>tomatometer_rating</th>\n",
       "      <th>audience_rating</th>\n",
       "      <th>critics_consensus</th>\n",
       "      <th>sentiment</th>\n",
       "    </tr>\n",
       "  </thead>\n",
       "  <tbody>\n",
       "    <tr>\n",
       "      <th>0</th>\n",
       "      <td>A Dog's Journey</td>\n",
       "      <td>PG</td>\n",
       "      <td>Drama, Kids &amp; Family</td>\n",
       "      <td>5/17/19</td>\n",
       "      <td>Bailey (voiced again by Josh Gad) is living the good life on the Michigan farm of his \"boy,\" Ethan (Dennis Quaid) and Ethan's wife Hannah (Marg Helgenberger). He even has a new playmate: Ethan and Hannah's baby granddaughter, CJ. The problem is that CJ's mom, Gloria (Betty Gilpin), decides to take CJ away. As Bailey's soul prepares to leave this life for a new one, he makes a promise to Ethan to find CJ and protect her at any cost. Thus begins Bailey's adventure through multiple lives filled with love, friendship and devotion as he, CJ (Kathryn Prescott), and CJ's best friend Trent (Henry Lau) experience joy and heartbreak, music and laughter, and few really good belly rubs.</td>\n",
       "      <td>Gail Mancuso</td>\n",
       "      <td>female</td>\n",
       "      <td>50</td>\n",
       "      <td>92</td>\n",
       "      <td>A Dog's Journey is as sentimental as one might expect, but even cynical viewers may find their ability to resist shedding a tear stretched to the puppermost limit.</td>\n",
       "      <td>0.9837</td>\n",
       "    </tr>\n",
       "    <tr>\n",
       "      <th>1</th>\n",
       "      <td>A Dog's Way Home</td>\n",
       "      <td>PG</td>\n",
       "      <td>Drama</td>\n",
       "      <td>1/11/19</td>\n",
       "      <td>Separated from her owner, a dog sets off on an 400-mile journey to get back to the safety and security of the place she calls home. Along the way, she meets a series of new friends and manages to bring a little bit of comfort and joy to their lives.</td>\n",
       "      <td>Charles Martin Smith</td>\n",
       "      <td>male</td>\n",
       "      <td>60</td>\n",
       "      <td>71</td>\n",
       "      <td>A Dog's Way Home may not quite be a family-friendly animal drama fan's best friend, but this canine adventure is no less heartwarming for its familiarity.</td>\n",
       "      <td>0.9237</td>\n",
       "    </tr>\n",
       "  </tbody>\n",
       "</table>\n",
       "</div>"
      ],
      "text/plain": [
       "        movie_title rating                 genre in_theaters_date  \\\n",
       "0   A Dog's Journey     PG  Drama, Kids & Family          5/17/19   \n",
       "1  A Dog's Way Home     PG                 Drama          1/11/19   \n",
       "\n",
       "                                                                                                                                                                                                                                                                                                                                                                                                                                                                                                                                                                                                                                                                                                    movie_info  \\\n",
       "0  Bailey (voiced again by Josh Gad) is living the good life on the Michigan farm of his \"boy,\" Ethan (Dennis Quaid) and Ethan's wife Hannah (Marg Helgenberger). He even has a new playmate: Ethan and Hannah's baby granddaughter, CJ. The problem is that CJ's mom, Gloria (Betty Gilpin), decides to take CJ away. As Bailey's soul prepares to leave this life for a new one, he makes a promise to Ethan to find CJ and protect her at any cost. Thus begins Bailey's adventure through multiple lives filled with love, friendship and devotion as he, CJ (Kathryn Prescott), and CJ's best friend Trent (Henry Lau) experience joy and heartbreak, music and laughter, and few really good belly rubs.   \n",
       "1                                                                                                                                                                                                                                                                                                                                                                                                                                                    Separated from her owner, a dog sets off on an 400-mile journey to get back to the safety and security of the place she calls home. Along the way, she meets a series of new friends and manages to bring a little bit of comfort and joy to their lives.   \n",
       "\n",
       "              directors director_gender  tomatometer_rating  audience_rating  \\\n",
       "0          Gail Mancuso          female                  50               92   \n",
       "1  Charles Martin Smith            male                  60               71   \n",
       "\n",
       "                                                                                                                                                     critics_consensus  \\\n",
       "0  A Dog's Journey is as sentimental as one might expect, but even cynical viewers may find their ability to resist shedding a tear stretched to the puppermost limit.   \n",
       "1           A Dog's Way Home may not quite be a family-friendly animal drama fan's best friend, but this canine adventure is no less heartwarming for its familiarity.   \n",
       "\n",
       "   sentiment  \n",
       "0     0.9837  \n",
       "1     0.9237  "
      ]
     },
     "execution_count": 23,
     "metadata": {},
     "output_type": "execute_result"
    }
   ],
   "source": [
    "df['sentiment'] = df.movie_info.apply(get_sentiment)\n",
    "df.head(2)"
   ]
  },
  {
   "cell_type": "code",
   "execution_count": null,
   "id": "f7060c90-cbeb-407d-963a-59e05c0297a1",
   "metadata": {},
   "outputs": [],
   "source": []
  }
 ],
 "metadata": {
  "kernelspec": {
   "display_name": "Python 3 (ipykernel)",
   "language": "python",
   "name": "python3"
  },
  "language_info": {
   "codemirror_mode": {
    "name": "ipython",
    "version": 3
   },
   "file_extension": ".py",
   "mimetype": "text/x-python",
   "name": "python",
   "nbconvert_exporter": "python",
   "pygments_lexer": "ipython3",
   "version": "3.12.11"
  }
 },
 "nbformat": 4,
 "nbformat_minor": 5
}
