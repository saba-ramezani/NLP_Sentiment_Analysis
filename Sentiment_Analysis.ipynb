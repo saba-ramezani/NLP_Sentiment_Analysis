{
 "cells": [
  {
   "cell_type": "markdown",
   "id": "5e8b7ec1-534e-4240-984e-f1a6e3acfe52",
   "metadata": {},
   "source": [
    "# Sentiment Analysis using VaderSentiment"
   ]
  },
  {
   "cell_type": "markdown",
   "id": "e8f8e109-4389-40c2-bf63-c1f185a76b9b",
   "metadata": {
    "jp-MarkdownHeadingCollapsed": true
   },
   "source": [
    "### Load the movie_reviews dataset"
   ]
  },
  {
   "cell_type": "code",
   "execution_count": 1,
   "id": "a7f3af1e-6715-4c50-aca0-6b12b8c2b9d7",
   "metadata": {},
   "outputs": [],
   "source": [
    "import pandas as pd"
   ]
  },
  {
   "cell_type": "code",
   "execution_count": 4,
   "id": "28c4c83d-4098-456e-803a-0a62403f76d0",
   "metadata": {},
   "outputs": [],
   "source": [
    "pd.set_option('display.max_colwidth', None)"
   ]
  },
  {
   "cell_type": "code",
   "execution_count": 7,
   "id": "20b263f6-4d3a-4c59-87e4-d5044112fee3",
   "metadata": {},
   "outputs": [
    {
     "data": {
      "text/html": [
       "<div>\n",
       "<style scoped>\n",
       "    .dataframe tbody tr th:only-of-type {\n",
       "        vertical-align: middle;\n",
       "    }\n",
       "\n",
       "    .dataframe tbody tr th {\n",
       "        vertical-align: top;\n",
       "    }\n",
       "\n",
       "    .dataframe thead th {\n",
       "        text-align: right;\n",
       "    }\n",
       "</style>\n",
       "<table border=\"1\" class=\"dataframe\">\n",
       "  <thead>\n",
       "    <tr style=\"text-align: right;\">\n",
       "      <th></th>\n",
       "      <th>movie_title</th>\n",
       "      <th>rating</th>\n",
       "      <th>genre</th>\n",
       "      <th>in_theaters_date</th>\n",
       "      <th>movie_info</th>\n",
       "      <th>directors</th>\n",
       "      <th>director_gender</th>\n",
       "      <th>tomatometer_rating</th>\n",
       "      <th>audience_rating</th>\n",
       "      <th>critics_consensus</th>\n",
       "    </tr>\n",
       "  </thead>\n",
       "  <tbody>\n",
       "    <tr>\n",
       "      <th>0</th>\n",
       "      <td>A Dog's Journey</td>\n",
       "      <td>PG</td>\n",
       "      <td>Drama, Kids &amp; Family</td>\n",
       "      <td>5/17/19</td>\n",
       "      <td>Bailey (voiced again by Josh Gad) is living the good life on the Michigan farm of his \"boy,\" Ethan (Dennis Quaid) and Ethan's wife Hannah (Marg Helgenberger). He even has a new playmate: Ethan and Hannah's baby granddaughter, CJ. The problem is that CJ's mom, Gloria (Betty Gilpin), decides to take CJ away. As Bailey's soul prepares to leave this life for a new one, he makes a promise to Ethan to find CJ and protect her at any cost. Thus begins Bailey's adventure through multiple lives filled with love, friendship and devotion as he, CJ (Kathryn Prescott), and CJ's best friend Trent (Henry Lau) experience joy and heartbreak, music and laughter, and few really good belly rubs.</td>\n",
       "      <td>Gail Mancuso</td>\n",
       "      <td>female</td>\n",
       "      <td>50</td>\n",
       "      <td>92</td>\n",
       "      <td>A Dog's Journey is as sentimental as one might expect, but even cynical viewers may find their ability to resist shedding a tear stretched to the puppermost limit.</td>\n",
       "    </tr>\n",
       "    <tr>\n",
       "      <th>1</th>\n",
       "      <td>A Dog's Way Home</td>\n",
       "      <td>PG</td>\n",
       "      <td>Drama</td>\n",
       "      <td>1/11/19</td>\n",
       "      <td>Separated from her owner, a dog sets off on an 400-mile journey to get back to the safety and security of the place she calls home. Along the way, she meets a series of new friends and manages to bring a little bit of comfort and joy to their lives.</td>\n",
       "      <td>Charles Martin Smith</td>\n",
       "      <td>male</td>\n",
       "      <td>60</td>\n",
       "      <td>71</td>\n",
       "      <td>A Dog's Way Home may not quite be a family-friendly animal drama fan's best friend, but this canine adventure is no less heartwarming for its familiarity.</td>\n",
       "    </tr>\n",
       "  </tbody>\n",
       "</table>\n",
       "</div>"
      ],
      "text/plain": [
       "        movie_title rating                 genre in_theaters_date  \\\n",
       "0   A Dog's Journey     PG  Drama, Kids & Family          5/17/19   \n",
       "1  A Dog's Way Home     PG                 Drama          1/11/19   \n",
       "\n",
       "                                                                                                                                                                                                                                                                                                                                                                                                                                                                                                                                                                                                                                                                                                    movie_info  \\\n",
       "0  Bailey (voiced again by Josh Gad) is living the good life on the Michigan farm of his \"boy,\" Ethan (Dennis Quaid) and Ethan's wife Hannah (Marg Helgenberger). He even has a new playmate: Ethan and Hannah's baby granddaughter, CJ. The problem is that CJ's mom, Gloria (Betty Gilpin), decides to take CJ away. As Bailey's soul prepares to leave this life for a new one, he makes a promise to Ethan to find CJ and protect her at any cost. Thus begins Bailey's adventure through multiple lives filled with love, friendship and devotion as he, CJ (Kathryn Prescott), and CJ's best friend Trent (Henry Lau) experience joy and heartbreak, music and laughter, and few really good belly rubs.   \n",
       "1                                                                                                                                                                                                                                                                                                                                                                                                                                                    Separated from her owner, a dog sets off on an 400-mile journey to get back to the safety and security of the place she calls home. Along the way, she meets a series of new friends and manages to bring a little bit of comfort and joy to their lives.   \n",
       "\n",
       "              directors director_gender  tomatometer_rating  audience_rating  \\\n",
       "0          Gail Mancuso          female                  50               92   \n",
       "1  Charles Martin Smith            male                  60               71   \n",
       "\n",
       "                                                                                                                                                     critics_consensus  \n",
       "0  A Dog's Journey is as sentimental as one might expect, but even cynical viewers may find their ability to resist shedding a tear stretched to the puppermost limit.  \n",
       "1           A Dog's Way Home may not quite be a family-friendly animal drama fan's best friend, but this canine adventure is no less heartwarming for its familiarity.  "
      ]
     },
     "execution_count": 7,
     "metadata": {},
     "output_type": "execute_result"
    }
   ],
   "source": [
    "df = pd.read_csv('movie_reviews.csv')\n",
    "df.head(2)"
   ]
  },
  {
   "cell_type": "code",
   "execution_count": 8,
   "id": "5d6a8f8b-ce81-4f11-a426-6f7c839b3d40",
   "metadata": {},
   "outputs": [
    {
     "data": {
      "text/plain": [
       "(166, 10)"
      ]
     },
     "execution_count": 8,
     "metadata": {},
     "output_type": "execute_result"
    }
   ],
   "source": [
    "df.shape"
   ]
  },
  {
   "cell_type": "markdown",
   "id": "c46ddaf5-6a16-43b0-928d-ece7afd43493",
   "metadata": {},
   "source": [
    "### Calculate sentiment of all movies (based on movie_info) using vaderSentiment"
   ]
  },
  {
   "cell_type": "code",
   "execution_count": 15,
   "id": "e5793f5e-38b8-4a0c-a2a4-7b44c5afefbf",
   "metadata": {},
   "outputs": [],
   "source": [
    "from vaderSentiment.vaderSentiment import SentimentIntensityAnalyzer\n",
    "\n",
    "analyzer = SentimentIntensityAnalyzer()"
   ]
  },
  {
   "cell_type": "code",
   "execution_count": 16,
   "id": "320ea15d-ce1b-492e-9785-687e8d98ffb4",
   "metadata": {},
   "outputs": [
    {
     "data": {
      "text/plain": [
       "'Bailey (voiced again by Josh Gad) is living the good life on the Michigan farm of his \"boy,\" Ethan (Dennis Quaid) and Ethan\\'s wife Hannah (Marg Helgenberger). He even has a new playmate: Ethan and Hannah\\'s baby granddaughter, CJ. The problem is that CJ\\'s mom, Gloria (Betty Gilpin), decides to take CJ away. As Bailey\\'s soul prepares to leave this life for a new one, he makes a promise to Ethan to find CJ and protect her at any cost. Thus begins Bailey\\'s adventure through multiple lives filled with love, friendship and devotion as he, CJ (Kathryn Prescott), and CJ\\'s best friend Trent (Henry Lau) experience joy and heartbreak, music and laughter, and few really good belly rubs.'"
      ]
     },
     "execution_count": 16,
     "metadata": {},
     "output_type": "execute_result"
    }
   ],
   "source": [
    "df.movie_info[0]"
   ]
  },
  {
   "cell_type": "code",
   "execution_count": 19,
   "id": "5d6bb55e-3605-4667-94d6-2fb30e13859b",
   "metadata": {},
   "outputs": [
    {
     "name": "stdout",
     "output_type": "stream",
     "text": [
      "All scores:  {'neg': 0.051, 'neu': 0.694, 'pos': 0.255, 'compound': 0.9837}\n",
      "Final Score:  0.9837\n"
     ]
    }
   ],
   "source": [
    "sentiment = analyzer.polarity_scores(df.movie_info[0])\n",
    "print('All scores: ', sentiment)\n",
    "print('Final Score: ', sentiment['compound'])"
   ]
  },
  {
   "cell_type": "code",
   "execution_count": 20,
   "id": "25933269-709c-4b03-96f0-92703dafcbb1",
   "metadata": {},
   "outputs": [],
   "source": [
    "def get_sentiment(text):\n",
    "    return analyzer.polarity_scores(text)['compound']"
   ]
  },
  {
   "cell_type": "code",
   "execution_count": 23,
   "id": "c16a05cd-90d1-481d-8a0a-cde1872e92bd",
   "metadata": {},
   "outputs": [
    {
     "data": {
      "text/html": [
       "<div>\n",
       "<style scoped>\n",
       "    .dataframe tbody tr th:only-of-type {\n",
       "        vertical-align: middle;\n",
       "    }\n",
       "\n",
       "    .dataframe tbody tr th {\n",
       "        vertical-align: top;\n",
       "    }\n",
       "\n",
       "    .dataframe thead th {\n",
       "        text-align: right;\n",
       "    }\n",
       "</style>\n",
       "<table border=\"1\" class=\"dataframe\">\n",
       "  <thead>\n",
       "    <tr style=\"text-align: right;\">\n",
       "      <th></th>\n",
       "      <th>movie_title</th>\n",
       "      <th>rating</th>\n",
       "      <th>genre</th>\n",
       "      <th>in_theaters_date</th>\n",
       "      <th>movie_info</th>\n",
       "      <th>directors</th>\n",
       "      <th>director_gender</th>\n",
       "      <th>tomatometer_rating</th>\n",
       "      <th>audience_rating</th>\n",
       "      <th>critics_consensus</th>\n",
       "      <th>sentiment</th>\n",
       "    </tr>\n",
       "  </thead>\n",
       "  <tbody>\n",
       "    <tr>\n",
       "      <th>0</th>\n",
       "      <td>A Dog's Journey</td>\n",
       "      <td>PG</td>\n",
       "      <td>Drama, Kids &amp; Family</td>\n",
       "      <td>5/17/19</td>\n",
       "      <td>Bailey (voiced again by Josh Gad) is living the good life on the Michigan farm of his \"boy,\" Ethan (Dennis Quaid) and Ethan's wife Hannah (Marg Helgenberger). He even has a new playmate: Ethan and Hannah's baby granddaughter, CJ. The problem is that CJ's mom, Gloria (Betty Gilpin), decides to take CJ away. As Bailey's soul prepares to leave this life for a new one, he makes a promise to Ethan to find CJ and protect her at any cost. Thus begins Bailey's adventure through multiple lives filled with love, friendship and devotion as he, CJ (Kathryn Prescott), and CJ's best friend Trent (Henry Lau) experience joy and heartbreak, music and laughter, and few really good belly rubs.</td>\n",
       "      <td>Gail Mancuso</td>\n",
       "      <td>female</td>\n",
       "      <td>50</td>\n",
       "      <td>92</td>\n",
       "      <td>A Dog's Journey is as sentimental as one might expect, but even cynical viewers may find their ability to resist shedding a tear stretched to the puppermost limit.</td>\n",
       "      <td>0.9837</td>\n",
       "    </tr>\n",
       "    <tr>\n",
       "      <th>1</th>\n",
       "      <td>A Dog's Way Home</td>\n",
       "      <td>PG</td>\n",
       "      <td>Drama</td>\n",
       "      <td>1/11/19</td>\n",
       "      <td>Separated from her owner, a dog sets off on an 400-mile journey to get back to the safety and security of the place she calls home. Along the way, she meets a series of new friends and manages to bring a little bit of comfort and joy to their lives.</td>\n",
       "      <td>Charles Martin Smith</td>\n",
       "      <td>male</td>\n",
       "      <td>60</td>\n",
       "      <td>71</td>\n",
       "      <td>A Dog's Way Home may not quite be a family-friendly animal drama fan's best friend, but this canine adventure is no less heartwarming for its familiarity.</td>\n",
       "      <td>0.9237</td>\n",
       "    </tr>\n",
       "  </tbody>\n",
       "</table>\n",
       "</div>"
      ],
      "text/plain": [
       "        movie_title rating                 genre in_theaters_date  \\\n",
       "0   A Dog's Journey     PG  Drama, Kids & Family          5/17/19   \n",
       "1  A Dog's Way Home     PG                 Drama          1/11/19   \n",
       "\n",
       "                                                                                                                                                                                                                                                                                                                                                                                                                                                                                                                                                                                                                                                                                                    movie_info  \\\n",
       "0  Bailey (voiced again by Josh Gad) is living the good life on the Michigan farm of his \"boy,\" Ethan (Dennis Quaid) and Ethan's wife Hannah (Marg Helgenberger). He even has a new playmate: Ethan and Hannah's baby granddaughter, CJ. The problem is that CJ's mom, Gloria (Betty Gilpin), decides to take CJ away. As Bailey's soul prepares to leave this life for a new one, he makes a promise to Ethan to find CJ and protect her at any cost. Thus begins Bailey's adventure through multiple lives filled with love, friendship and devotion as he, CJ (Kathryn Prescott), and CJ's best friend Trent (Henry Lau) experience joy and heartbreak, music and laughter, and few really good belly rubs.   \n",
       "1                                                                                                                                                                                                                                                                                                                                                                                                                                                    Separated from her owner, a dog sets off on an 400-mile journey to get back to the safety and security of the place she calls home. Along the way, she meets a series of new friends and manages to bring a little bit of comfort and joy to their lives.   \n",
       "\n",
       "              directors director_gender  tomatometer_rating  audience_rating  \\\n",
       "0          Gail Mancuso          female                  50               92   \n",
       "1  Charles Martin Smith            male                  60               71   \n",
       "\n",
       "                                                                                                                                                     critics_consensus  \\\n",
       "0  A Dog's Journey is as sentimental as one might expect, but even cynical viewers may find their ability to resist shedding a tear stretched to the puppermost limit.   \n",
       "1           A Dog's Way Home may not quite be a family-friendly animal drama fan's best friend, but this canine adventure is no less heartwarming for its familiarity.   \n",
       "\n",
       "   sentiment  \n",
       "0     0.9837  \n",
       "1     0.9237  "
      ]
     },
     "execution_count": 23,
     "metadata": {},
     "output_type": "execute_result"
    }
   ],
   "source": [
    "df['sentiment'] = df.movie_info.apply(get_sentiment)\n",
    "df.head(2)"
   ]
  },
  {
   "cell_type": "markdown",
   "id": "b9a9d6e6-876e-492c-a04e-984ed50d00dc",
   "metadata": {},
   "source": [
    "### Get 10 most positive movies"
   ]
  },
  {
   "cell_type": "code",
   "execution_count": 28,
   "id": "a0f28aca-8092-4315-9fe5-19123d0ea210",
   "metadata": {},
   "outputs": [
    {
     "data": {
      "text/html": [
       "<div>\n",
       "<style scoped>\n",
       "    .dataframe tbody tr th:only-of-type {\n",
       "        vertical-align: middle;\n",
       "    }\n",
       "\n",
       "    .dataframe tbody tr th {\n",
       "        vertical-align: top;\n",
       "    }\n",
       "\n",
       "    .dataframe thead th {\n",
       "        text-align: right;\n",
       "    }\n",
       "</style>\n",
       "<table border=\"1\" class=\"dataframe\">\n",
       "  <thead>\n",
       "    <tr style=\"text-align: right;\">\n",
       "      <th></th>\n",
       "      <th>movie_title</th>\n",
       "      <th>movie_info</th>\n",
       "      <th>sentiment</th>\n",
       "    </tr>\n",
       "  </thead>\n",
       "  <tbody>\n",
       "    <tr>\n",
       "      <th>23</th>\n",
       "      <td>Breakthrough</td>\n",
       "      <td>BREAKTHROUGH is based on the inspirational true story of one mother's unfaltering love in the face of impossible odds. When Joyce Smith's adopted son John falls through an icy Missouri lake, all hope seems lost. But as John lies lifeless, Joyce refuses to give up. Her steadfast belief inspires those around her to continue to pray for John's recovery, even in the face of every case history and scientific prediction. From producer DeVon Franklin (Miracles from Heaven) and adapted for the screen by Grant Nieporte (Seven Pounds) from Joyce Smith's own book, BREAKTHROUGH is an enthralling reminder that faith and love can create a mountain of hope, and sometimes even a miracle.</td>\n",
       "      <td>0.9915</td>\n",
       "    </tr>\n",
       "    <tr>\n",
       "      <th>81</th>\n",
       "      <td>Missing Link</td>\n",
       "      <td>This April, meet Mr. Link (Galifianakis): 8 feet tall, 630 lbs, and covered in fur, but don't let his appearance fool you... he is funny, sweet, and adorably literal, making him the world's most lovable legend at the heart of Missing Link, the globe-trotting family adventure from LAIKA. Tired of living a solitary life in the Pacific Northwest, Mr. Link recruits fearless explorer Sir Lionel Frost (Jackman) to guide him on a journey to find his long-lost relatives in the fabled valley of Shangri-La. Along with adventurer Adelina Fortnight (Saldana), our fearless trio of explorers encounter more than their fair share of peril as they travel to the far reaches of the world to help their new friend. Through it all, the three learn that sometimes you can find a family in the places you least expect.</td>\n",
       "      <td>0.9909</td>\n",
       "    </tr>\n",
       "    <tr>\n",
       "      <th>130</th>\n",
       "      <td>The Laundromat</td>\n",
       "      <td>When her idyllic vacation takes an unthinkable turn, Ellen Martin (Academy Award winner Meryl Streep) begins investigating a fake insurance policy, only to find herself down a rabbit hole of questionable dealings that can be linked to a Panama City law firm and its vested interest in helping the world's wealthiest citizens amass even larger fortunes. The charming -- and very well-dressed -- founding partners Jürgen Mossack (Academy Award winner Gary Oldman) and Ramón Fonseca (Golden Globe nominee Antonio Banderas) are experts in the seductive ways shell companies and offshore accounts help the rich and powerful prosper. They are about to show us that Ellen's predicament only hints at the tax evasion, bribery and other illicit absurdities that the super wealthy indulge in to support the world's corrupt financial system.</td>\n",
       "      <td>0.9908</td>\n",
       "    </tr>\n",
       "    <tr>\n",
       "      <th>48</th>\n",
       "      <td>Five Feet Apart</td>\n",
       "      <td>Stella Grant (Haley Lu Richardson) is every bit a seventeen-year-old... she's attached to her laptop and loves her best friends. But unlike most teenagers, she spends much of her time living in a hospital as a cystic fibrosis patient. Her life is full of routines, boundaries and self-control -- all of which is put to the test when she meets an impossibly charming fellow CF patient named Will Newman (Cole Sprouse). There's an instant flirtation, though restrictions dictate that they must maintain a safe distance between them. As their connection intensifies, so does the temptation to throw the rules out the window and embrace that attraction. Further complicating matters is Will's potentially dangerous rebellion against his ongoing medical treatment. Stella gradually inspires Will to live life to the fullest, but can she ultimately save the person she loves when even a single touch is off limits?</td>\n",
       "      <td>0.9889</td>\n",
       "    </tr>\n",
       "    <tr>\n",
       "      <th>156</th>\n",
       "      <td>UglyDolls</td>\n",
       "      <td>In the adorably different town of Uglyville, weird is celebrated, strange is special and beauty is embraced as more than simply meets the eye. Here, the free-spirited Moxy (Clarkson) and her UglyDoll friends live every day in a whirlwind of bliss, letting their freak flags fly in a celebration of life and its endless possibilities. In this all-new story, the UglyDolls will go on a journey beyond the comfortable borders of Uglyville. There, they will confront what it means to be different, struggle with their desire to be loved, and ultimately discover that you don't have to be perfect to be amazing because who you truly are is what matters most.</td>\n",
       "      <td>0.9862</td>\n",
       "    </tr>\n",
       "    <tr>\n",
       "      <th>93</th>\n",
       "      <td>Red Joan</td>\n",
       "      <td>In a picturesque village in England, Joan Stanley (Academy Award (R) winner Dame Judi Dench), lives in contented retirement. Then suddenly her tranquil existence is shattered as she's shockingly arrested by MI5. For Joan has been hiding an incredible past; she is one of the most influential spies in living history... Cambridge University in the 1930s, and the young Joan (Sophie Cookson), a demure physics student, falls intensely in love with a seductively attractive Russian saboteur, Leo. Through him, she begins to see that the world is on a knife-edge and perhaps must be saved from itself in the race to military supremacy. Post-war and now working at a top secret nuclear research facility, Joan is confronted with the impossible: Would you betray your country and your loved ones, if it meant saving them? What price would you pay for peace? Inspired by an extraordinary true story, Red Joan is the taut and emotional discovery of one woman's sacrifice in the face of incredible circumstances. A woman to whom we perhaps all owe our freedom.</td>\n",
       "      <td>0.9848</td>\n",
       "    </tr>\n",
       "    <tr>\n",
       "      <th>49</th>\n",
       "      <td>Giant Little Ones</td>\n",
       "      <td>Franky Winter (Josh Wiggins) and Ballas Kohl (Darren Mann) have been best friends since childhood. They are high school royalty: handsome, stars of the swim team and popular with girls. They live a perfect teenage life - until the night of Franky's epic 17th birthday party, when Franky and Ballas are involved in an unexpected incident that changes their lives forever. Giant Little Ones is a heartfelt and intimate coming-of-age story about friendship, self-discovery, and the power of love without labels.</td>\n",
       "      <td>0.9839</td>\n",
       "    </tr>\n",
       "    <tr>\n",
       "      <th>0</th>\n",
       "      <td>A Dog's Journey</td>\n",
       "      <td>Bailey (voiced again by Josh Gad) is living the good life on the Michigan farm of his \"boy,\" Ethan (Dennis Quaid) and Ethan's wife Hannah (Marg Helgenberger). He even has a new playmate: Ethan and Hannah's baby granddaughter, CJ. The problem is that CJ's mom, Gloria (Betty Gilpin), decides to take CJ away. As Bailey's soul prepares to leave this life for a new one, he makes a promise to Ethan to find CJ and protect her at any cost. Thus begins Bailey's adventure through multiple lives filled with love, friendship and devotion as he, CJ (Kathryn Prescott), and CJ's best friend Trent (Henry Lau) experience joy and heartbreak, music and laughter, and few really good belly rubs.</td>\n",
       "      <td>0.9837</td>\n",
       "    </tr>\n",
       "    <tr>\n",
       "      <th>36</th>\n",
       "      <td>Dumbo</td>\n",
       "      <td>From Disney and visionary director Tim Burton, the all-new grand live-action adventure \"Dumbo\" expands on the beloved classic story where differences are celebrated, family is cherished and dreams take flight. Circus owner Max Medici (Danny DeVito) enlists former star Holt Farrier (Colin Farrell) and his children Milly (Nico Parker) and Joe (Finley Hobbins) to care for a newborn elephant whose oversized ears make him a laughingstock in an already struggling circus. But when they discover that Dumbo can fly, the circus makes an incredible comeback, attracting persuasive entrepreneur V.A. Vandevere (Michael Keaton), who recruits the peculiar pachyderm for his newest, larger-than-life entertainment venture, Dreamland. Dumbo soars to new heights alongside a charming and spectacular aerial artist, Colette Marchant (Eva Green), until Holt learns that beneath its shiny veneer, Dreamland is full of dark secrets.</td>\n",
       "      <td>0.9801</td>\n",
       "    </tr>\n",
       "    <tr>\n",
       "      <th>71</th>\n",
       "      <td>Long Shot</td>\n",
       "      <td>Fred Flarsky (Seth Rogen) is a gifted and free-spirited journalist with an affinity for trouble. Charlotte Field (Charlize Theron) is one of the most influential women in the world. Smart, sophisticated, and accomplished, she's a powerhouse diplomat with a talent for... well, mostly everything. The two have nothing in common, except that she was his babysitter and childhood crush. When Fred unexpectedly reconnects with Charlotte, he charms her with his self-deprecating humor and his memories of her youthful idealism. As she prepares to make a run for the Presidency, Charlotte impulsively hires Fred as her speechwriter, much to the dismay of her trusted advisors. A fish out of water on Charlotte's elite team, Fred is unprepared for her glamorous lifestyle in the limelight. However, sparks fly as their unmistakable chemistry leads to a round-the-world romance and a series of unexpected and dangerous incidents.</td>\n",
       "      <td>0.9778</td>\n",
       "    </tr>\n",
       "  </tbody>\n",
       "</table>\n",
       "</div>"
      ],
      "text/plain": [
       "           movie_title  \\\n",
       "23        Breakthrough   \n",
       "81        Missing Link   \n",
       "130     The Laundromat   \n",
       "48     Five Feet Apart   \n",
       "156          UglyDolls   \n",
       "93            Red Joan   \n",
       "49   Giant Little Ones   \n",
       "0      A Dog's Journey   \n",
       "36               Dumbo   \n",
       "71           Long Shot   \n",
       "\n",
       "                                                                                                                                                                                                                                                                                                                                                                                                                                                                                                                                                                                                                                                                                                                                                                                                                                                                                                                                                                                                                                                                                      movie_info  \\\n",
       "23                                                                                                                                                                                                                                                                                                                                                                                      BREAKTHROUGH is based on the inspirational true story of one mother's unfaltering love in the face of impossible odds. When Joyce Smith's adopted son John falls through an icy Missouri lake, all hope seems lost. But as John lies lifeless, Joyce refuses to give up. Her steadfast belief inspires those around her to continue to pray for John's recovery, even in the face of every case history and scientific prediction. From producer DeVon Franklin (Miracles from Heaven) and adapted for the screen by Grant Nieporte (Seven Pounds) from Joyce Smith's own book, BREAKTHROUGH is an enthralling reminder that faith and love can create a mountain of hope, and sometimes even a miracle.   \n",
       "81                                                                                                                                                                                                                                                          This April, meet Mr. Link (Galifianakis): 8 feet tall, 630 lbs, and covered in fur, but don't let his appearance fool you... he is funny, sweet, and adorably literal, making him the world's most lovable legend at the heart of Missing Link, the globe-trotting family adventure from LAIKA. Tired of living a solitary life in the Pacific Northwest, Mr. Link recruits fearless explorer Sir Lionel Frost (Jackman) to guide him on a journey to find his long-lost relatives in the fabled valley of Shangri-La. Along with adventurer Adelina Fortnight (Saldana), our fearless trio of explorers encounter more than their fair share of peril as they travel to the far reaches of the world to help their new friend. Through it all, the three learn that sometimes you can find a family in the places you least expect.   \n",
       "130                                                                                                                                                                                                                               When her idyllic vacation takes an unthinkable turn, Ellen Martin (Academy Award winner Meryl Streep) begins investigating a fake insurance policy, only to find herself down a rabbit hole of questionable dealings that can be linked to a Panama City law firm and its vested interest in helping the world's wealthiest citizens amass even larger fortunes. The charming -- and very well-dressed -- founding partners Jürgen Mossack (Academy Award winner Gary Oldman) and Ramón Fonseca (Golden Globe nominee Antonio Banderas) are experts in the seductive ways shell companies and offshore accounts help the rich and powerful prosper. They are about to show us that Ellen's predicament only hints at the tax evasion, bribery and other illicit absurdities that the super wealthy indulge in to support the world's corrupt financial system.   \n",
       "48                                                                                                                                                  Stella Grant (Haley Lu Richardson) is every bit a seventeen-year-old... she's attached to her laptop and loves her best friends. But unlike most teenagers, she spends much of her time living in a hospital as a cystic fibrosis patient. Her life is full of routines, boundaries and self-control -- all of which is put to the test when she meets an impossibly charming fellow CF patient named Will Newman (Cole Sprouse). There's an instant flirtation, though restrictions dictate that they must maintain a safe distance between them. As their connection intensifies, so does the temptation to throw the rules out the window and embrace that attraction. Further complicating matters is Will's potentially dangerous rebellion against his ongoing medical treatment. Stella gradually inspires Will to live life to the fullest, but can she ultimately save the person she loves when even a single touch is off limits?   \n",
       "156                                                                                                                                                                                                                                                                                                                                                                                                                In the adorably different town of Uglyville, weird is celebrated, strange is special and beauty is embraced as more than simply meets the eye. Here, the free-spirited Moxy (Clarkson) and her UglyDoll friends live every day in a whirlwind of bliss, letting their freak flags fly in a celebration of life and its endless possibilities. In this all-new story, the UglyDolls will go on a journey beyond the comfortable borders of Uglyville. There, they will confront what it means to be different, struggle with their desire to be loved, and ultimately discover that you don't have to be perfect to be amazing because who you truly are is what matters most.   \n",
       "93   In a picturesque village in England, Joan Stanley (Academy Award (R) winner Dame Judi Dench), lives in contented retirement. Then suddenly her tranquil existence is shattered as she's shockingly arrested by MI5. For Joan has been hiding an incredible past; she is one of the most influential spies in living history... Cambridge University in the 1930s, and the young Joan (Sophie Cookson), a demure physics student, falls intensely in love with a seductively attractive Russian saboteur, Leo. Through him, she begins to see that the world is on a knife-edge and perhaps must be saved from itself in the race to military supremacy. Post-war and now working at a top secret nuclear research facility, Joan is confronted with the impossible: Would you betray your country and your loved ones, if it meant saving them? What price would you pay for peace? Inspired by an extraordinary true story, Red Joan is the taut and emotional discovery of one woman's sacrifice in the face of incredible circumstances. A woman to whom we perhaps all owe our freedom.   \n",
       "49                                                                                                                                                                                                                                                                                                                                                                                                                                                                                                                                                                  Franky Winter (Josh Wiggins) and Ballas Kohl (Darren Mann) have been best friends since childhood. They are high school royalty: handsome, stars of the swim team and popular with girls. They live a perfect teenage life - until the night of Franky's epic 17th birthday party, when Franky and Ballas are involved in an unexpected incident that changes their lives forever. Giant Little Ones is a heartfelt and intimate coming-of-age story about friendship, self-discovery, and the power of love without labels.   \n",
       "0                                                                                                                                                                                                                                                                                                                                                                                    Bailey (voiced again by Josh Gad) is living the good life on the Michigan farm of his \"boy,\" Ethan (Dennis Quaid) and Ethan's wife Hannah (Marg Helgenberger). He even has a new playmate: Ethan and Hannah's baby granddaughter, CJ. The problem is that CJ's mom, Gloria (Betty Gilpin), decides to take CJ away. As Bailey's soul prepares to leave this life for a new one, he makes a promise to Ethan to find CJ and protect her at any cost. Thus begins Bailey's adventure through multiple lives filled with love, friendship and devotion as he, CJ (Kathryn Prescott), and CJ's best friend Trent (Henry Lau) experience joy and heartbreak, music and laughter, and few really good belly rubs.   \n",
       "36                                                                                                                                         From Disney and visionary director Tim Burton, the all-new grand live-action adventure \"Dumbo\" expands on the beloved classic story where differences are celebrated, family is cherished and dreams take flight. Circus owner Max Medici (Danny DeVito) enlists former star Holt Farrier (Colin Farrell) and his children Milly (Nico Parker) and Joe (Finley Hobbins) to care for a newborn elephant whose oversized ears make him a laughingstock in an already struggling circus. But when they discover that Dumbo can fly, the circus makes an incredible comeback, attracting persuasive entrepreneur V.A. Vandevere (Michael Keaton), who recruits the peculiar pachyderm for his newest, larger-than-life entertainment venture, Dreamland. Dumbo soars to new heights alongside a charming and spectacular aerial artist, Colette Marchant (Eva Green), until Holt learns that beneath its shiny veneer, Dreamland is full of dark secrets.   \n",
       "71                                                                                                                                     Fred Flarsky (Seth Rogen) is a gifted and free-spirited journalist with an affinity for trouble. Charlotte Field (Charlize Theron) is one of the most influential women in the world. Smart, sophisticated, and accomplished, she's a powerhouse diplomat with a talent for... well, mostly everything. The two have nothing in common, except that she was his babysitter and childhood crush. When Fred unexpectedly reconnects with Charlotte, he charms her with his self-deprecating humor and his memories of her youthful idealism. As she prepares to make a run for the Presidency, Charlotte impulsively hires Fred as her speechwriter, much to the dismay of her trusted advisors. A fish out of water on Charlotte's elite team, Fred is unprepared for her glamorous lifestyle in the limelight. However, sparks fly as their unmistakable chemistry leads to a round-the-world romance and a series of unexpected and dangerous incidents.   \n",
       "\n",
       "     sentiment  \n",
       "23      0.9915  \n",
       "81      0.9909  \n",
       "130     0.9908  \n",
       "48      0.9889  \n",
       "156     0.9862  \n",
       "93      0.9848  \n",
       "49      0.9839  \n",
       "0       0.9837  \n",
       "36      0.9801  \n",
       "71      0.9778  "
      ]
     },
     "execution_count": 28,
     "metadata": {},
     "output_type": "execute_result"
    }
   ],
   "source": [
    "df[['movie_title', 'movie_info', 'sentiment']].sort_values(by='sentiment', ascending=False).head(10)"
   ]
  },
  {
   "cell_type": "markdown",
   "id": "1aa2b60d-0e8a-40cc-b5d8-ca87030da544",
   "metadata": {},
   "source": [
    "### Get 10 most negative movies"
   ]
  },
  {
   "cell_type": "code",
   "execution_count": 29,
   "id": "1da662cd-cc65-4dba-b73a-de1a4aeb40cf",
   "metadata": {},
   "outputs": [
    {
     "data": {
      "text/html": [
       "<div>\n",
       "<style scoped>\n",
       "    .dataframe tbody tr th:only-of-type {\n",
       "        vertical-align: middle;\n",
       "    }\n",
       "\n",
       "    .dataframe tbody tr th {\n",
       "        vertical-align: top;\n",
       "    }\n",
       "\n",
       "    .dataframe thead th {\n",
       "        text-align: right;\n",
       "    }\n",
       "</style>\n",
       "<table border=\"1\" class=\"dataframe\">\n",
       "  <thead>\n",
       "    <tr style=\"text-align: right;\">\n",
       "      <th></th>\n",
       "      <th>movie_title</th>\n",
       "      <th>movie_info</th>\n",
       "      <th>sentiment</th>\n",
       "    </tr>\n",
       "  </thead>\n",
       "  <tbody>\n",
       "    <tr>\n",
       "      <th>7</th>\n",
       "      <td>All Is True</td>\n",
       "      <td>The year is 1613, Shakespeare is acknowledged as the greatest writer of the age. But disaster strikes when his renowned Globe Theatre burns to the ground, and devastated, Shakespeare returns to Stratford, where he must face a troubled past and a neglected family. Haunted by the death of his only son Hamnet, he struggles to mend the broken relationships with his wife and daughters. In so doing, he is ruthlessly forced to examine his own failings as husband and father. His very personal search for the truth uncovers secrets and lies within a family at war.</td>\n",
       "      <td>-0.9955</td>\n",
       "    </tr>\n",
       "    <tr>\n",
       "      <th>148</th>\n",
       "      <td>The Wind</td>\n",
       "      <td>An unseen evil haunts the homestead in this chilling, folkloric tale of madness, paranoia, and otherworldly terror. Lizzy (Caitlin Gerard) is a tough, resourceful frontierswoman settling a remote stretch of land on the 19th-century American frontier. Isolated from civilization in a desolate wilderness where the wind never stops howling, she begins to sense a sinister presence that seems to be borne of the land itself, an overwhelming dread that her husband (Ashley Zukerman) dismisses as superstition. When a newlywed couple arrives on a nearby homestead, their presence amplifies Lizzy's fears, setting into motion a shocking chain of events. Masterfully blending haunting visuals with pulse-pounding sound design, director Emma Tammi evokes a godforsaken world in which the forces of nature come alive with quivering menace.</td>\n",
       "      <td>-0.9838</td>\n",
       "    </tr>\n",
       "    <tr>\n",
       "      <th>83</th>\n",
       "      <td>Nightmare Cinema</td>\n",
       "      <td>In this twisted horror anthology, five strangers are drawn to an abandoned theater and forced to watch their deepest and darkest fears play out before them. Lurking in the shadows is the Projectionist, who preys upon their souls with his collection of disturbing films. As each reel spins its sinister tale, the characters find frightening parallels to their own lives.</td>\n",
       "      <td>-0.9756</td>\n",
       "    </tr>\n",
       "    <tr>\n",
       "      <th>154</th>\n",
       "      <td>Triple Threat</td>\n",
       "      <td>TRIPLE THREAT, the newest feature from Johnson, is an adrenaline fueled and gritty action thriller starring some of the biggest names in action today. Michael Jai White (BLACK DYNAMITE; UNDISPUTED 2: LAST MAN STANDING), Scott Adkins (Marvel's DOCTOR STRANGE; THE EXPENDABLES 2), Michael Bisping (xXx: RETURN OF XANDER CAGE) star as a group of professional assassins hired to take out a billionaire's daughter who is intent on bringing down a major crime syndicate. A down and out team of mercenaries, played by Tony Jaa (ONG BAK TRILOGY; xXx: RETURN OF XANDER CAGE), Iko Uwais (THE RAID 1 &amp; 2; STAR WARS: THE FORCE AWAKENS) and Tiger Chen (MAN OF TAI CHI), must take on the assassins and stop them before they kill their target. The film co-stars JeeJa Yanin (CHOCOLATE) Michael Wong (Cold War) and Celina Jade (WOLF WARRIOR 2).</td>\n",
       "      <td>-0.9696</td>\n",
       "    </tr>\n",
       "    <tr>\n",
       "      <th>11</th>\n",
       "      <td>Angel of Mine</td>\n",
       "      <td>Noomi Rapace (The Girl with the Dragon Tattoo) stars as a woman on the edge in this intense psychological thriller. Having suffered a tragic loss years earlier, Lizzie (Rapace) is trying to rebuild her life when she suddenly becomes obsessed with a neighbor's daughter, believing the girl to be her own child. As Lizzie's shocking, threatening acts grow increasingly dangerous, they lead to an explosive confrontation with the girl's angry, defensive mother (Yvonne Strahovski, \"The Handmaid's Tale\").</td>\n",
       "      <td>-0.9687</td>\n",
       "    </tr>\n",
       "    <tr>\n",
       "      <th>27</th>\n",
       "      <td>Charlie Says</td>\n",
       "      <td>Three young women were sentenced to death for the infamous Manson murders. Their sentences became life imprisonment when the death penalty was lifted in California. One young graduate student was sent in to teach them. Through her, we witness their transformations as they face the reality of their horrific crimes.</td>\n",
       "      <td>-0.9643</td>\n",
       "    </tr>\n",
       "    <tr>\n",
       "      <th>113</th>\n",
       "      <td>The Curse of La Llorona</td>\n",
       "      <td>In 1970s Los Angeles, La Llorona is stalking the night -- and the children. Ignoring the eerie warning of a troubled mother suspected of child endangerment, a social worker and her own small kids are soon drawn into a frightening supernatural realm. Their only hope to survive La Llorona's deadly wrath may be a disillusioned priest and the mysticism he practices to keep evil at bay, on the fringes where fear and faith collide.</td>\n",
       "      <td>-0.9628</td>\n",
       "    </tr>\n",
       "    <tr>\n",
       "      <th>87</th>\n",
       "      <td>Pet Sematary</td>\n",
       "      <td>Based on the seminal horror novel by Stephen King, Pet Sematary follows Dr. Louis Creed (Jason Clarke), who, after relocating with his wife Rachel (Amy Seimetz) and their two young children from Boston to rural Maine, discovers a mysterious burial ground hidden deep in the woods near the family's new home. When tragedy strikes, Louis turns to his unusual neighbor, Jud Crandall (John Lithgow), setting off a perilous chain reaction that unleashes an unfathomable evil with horrific consequences.</td>\n",
       "      <td>-0.9590</td>\n",
       "    </tr>\n",
       "    <tr>\n",
       "      <th>142</th>\n",
       "      <td>The Standoff at Sparrow Creek</td>\n",
       "      <td>After a mass shooting at a police funeral, reclusive ex-cop Gannon finds himself unwittingly forced out of retirement when he realizes that the killer belongs to the same militia he joined after quitting the force. Understanding that the shooting could set off a chain reaction of copycat violence across the country, Gannon quarantines his fellow militiamen in the remote lumber mill they call their headquarters. There, he sets about a series of grueling interrogations, intent on ferreting out the killer and turning him over to the authorities to prevent further bloodshed.</td>\n",
       "      <td>-0.9590</td>\n",
       "    </tr>\n",
       "    <tr>\n",
       "      <th>40</th>\n",
       "      <td>El Chicano</td>\n",
       "      <td>When L.A.P.D. Detective Diego Hernandez is assigned a career-making case investigating a vicious cartel, he uncovers links to his brother's supposed suicide and a turf battle that's about to swallow his neighborhood. Torn between playing by the book and seeking justice, he resurrects the masked street legend El Chicano. Now, out to take down his childhood buddy turned gang boss, he sets off a bloody war to defend his city and avenge his brother's murder</td>\n",
       "      <td>-0.9578</td>\n",
       "    </tr>\n",
       "  </tbody>\n",
       "</table>\n",
       "</div>"
      ],
      "text/plain": [
       "                       movie_title  \\\n",
       "7                      All Is True   \n",
       "148                       The Wind   \n",
       "83                Nightmare Cinema   \n",
       "154                  Triple Threat   \n",
       "11                   Angel of Mine   \n",
       "27                    Charlie Says   \n",
       "113        The Curse of La Llorona   \n",
       "87                    Pet Sematary   \n",
       "142  The Standoff at Sparrow Creek   \n",
       "40                      El Chicano   \n",
       "\n",
       "                                                                                                                                                                                                                                                                                                                                                                                                                                                                                                                                                                                                                                                                                                                                                                                                                                                         movie_info  \\\n",
       "7                                                                                                                                                                                                                                                                                  The year is 1613, Shakespeare is acknowledged as the greatest writer of the age. But disaster strikes when his renowned Globe Theatre burns to the ground, and devastated, Shakespeare returns to Stratford, where he must face a troubled past and a neglected family. Haunted by the death of his only son Hamnet, he struggles to mend the broken relationships with his wife and daughters. In so doing, he is ruthlessly forced to examine his own failings as husband and father. His very personal search for the truth uncovers secrets and lies within a family at war.   \n",
       "148  An unseen evil haunts the homestead in this chilling, folkloric tale of madness, paranoia, and otherworldly terror. Lizzy (Caitlin Gerard) is a tough, resourceful frontierswoman settling a remote stretch of land on the 19th-century American frontier. Isolated from civilization in a desolate wilderness where the wind never stops howling, she begins to sense a sinister presence that seems to be borne of the land itself, an overwhelming dread that her husband (Ashley Zukerman) dismisses as superstition. When a newlywed couple arrives on a nearby homestead, their presence amplifies Lizzy's fears, setting into motion a shocking chain of events. Masterfully blending haunting visuals with pulse-pounding sound design, director Emma Tammi evokes a godforsaken world in which the forces of nature come alive with quivering menace.   \n",
       "83                                                                                                                                                                                                                                                                                                                                                                                                                                                                                In this twisted horror anthology, five strangers are drawn to an abandoned theater and forced to watch their deepest and darkest fears play out before them. Lurking in the shadows is the Projectionist, who preys upon their souls with his collection of disturbing films. As each reel spins its sinister tale, the characters find frightening parallels to their own lives.   \n",
       "154    TRIPLE THREAT, the newest feature from Johnson, is an adrenaline fueled and gritty action thriller starring some of the biggest names in action today. Michael Jai White (BLACK DYNAMITE; UNDISPUTED 2: LAST MAN STANDING), Scott Adkins (Marvel's DOCTOR STRANGE; THE EXPENDABLES 2), Michael Bisping (xXx: RETURN OF XANDER CAGE) star as a group of professional assassins hired to take out a billionaire's daughter who is intent on bringing down a major crime syndicate. A down and out team of mercenaries, played by Tony Jaa (ONG BAK TRILOGY; xXx: RETURN OF XANDER CAGE), Iko Uwais (THE RAID 1 & 2; STAR WARS: THE FORCE AWAKENS) and Tiger Chen (MAN OF TAI CHI), must take on the assassins and stop them before they kill their target. The film co-stars JeeJa Yanin (CHOCOLATE) Michael Wong (Cold War) and Celina Jade (WOLF WARRIOR 2).   \n",
       "11                                                                                                                                                                                                                                                                                                                                            Noomi Rapace (The Girl with the Dragon Tattoo) stars as a woman on the edge in this intense psychological thriller. Having suffered a tragic loss years earlier, Lizzie (Rapace) is trying to rebuild her life when she suddenly becomes obsessed with a neighbor's daughter, believing the girl to be her own child. As Lizzie's shocking, threatening acts grow increasingly dangerous, they lead to an explosive confrontation with the girl's angry, defensive mother (Yvonne Strahovski, \"The Handmaid's Tale\").   \n",
       "27                                                                                                                                                                                                                                                                                                                                                                                                                                                                                                                                      Three young women were sentenced to death for the infamous Manson murders. Their sentences became life imprisonment when the death penalty was lifted in California. One young graduate student was sent in to teach them. Through her, we witness their transformations as they face the reality of their horrific crimes.   \n",
       "113                                                                                                                                                                                                                                                                                                                                                                                                                   In 1970s Los Angeles, La Llorona is stalking the night -- and the children. Ignoring the eerie warning of a troubled mother suspected of child endangerment, a social worker and her own small kids are soon drawn into a frightening supernatural realm. Their only hope to survive La Llorona's deadly wrath may be a disillusioned priest and the mysticism he practices to keep evil at bay, on the fringes where fear and faith collide.   \n",
       "87                                                                                                                                                                                                                                                                                                                                                Based on the seminal horror novel by Stephen King, Pet Sematary follows Dr. Louis Creed (Jason Clarke), who, after relocating with his wife Rachel (Amy Seimetz) and their two young children from Boston to rural Maine, discovers a mysterious burial ground hidden deep in the woods near the family's new home. When tragedy strikes, Louis turns to his unusual neighbor, Jud Crandall (John Lithgow), setting off a perilous chain reaction that unleashes an unfathomable evil with horrific consequences.   \n",
       "142                                                                                                                                                                                                                                                               After a mass shooting at a police funeral, reclusive ex-cop Gannon finds himself unwittingly forced out of retirement when he realizes that the killer belongs to the same militia he joined after quitting the force. Understanding that the shooting could set off a chain reaction of copycat violence across the country, Gannon quarantines his fellow militiamen in the remote lumber mill they call their headquarters. There, he sets about a series of grueling interrogations, intent on ferreting out the killer and turning him over to the authorities to prevent further bloodshed.   \n",
       "40                                                                                                                                                                                                                                                                                                                                                                                        When L.A.P.D. Detective Diego Hernandez is assigned a career-making case investigating a vicious cartel, he uncovers links to his brother's supposed suicide and a turf battle that's about to swallow his neighborhood. Torn between playing by the book and seeking justice, he resurrects the masked street legend El Chicano. Now, out to take down his childhood buddy turned gang boss, he sets off a bloody war to defend his city and avenge his brother's murder   \n",
       "\n",
       "     sentiment  \n",
       "7      -0.9955  \n",
       "148    -0.9838  \n",
       "83     -0.9756  \n",
       "154    -0.9696  \n",
       "11     -0.9687  \n",
       "27     -0.9643  \n",
       "113    -0.9628  \n",
       "87     -0.9590  \n",
       "142    -0.9590  \n",
       "40     -0.9578  "
      ]
     },
     "execution_count": 29,
     "metadata": {},
     "output_type": "execute_result"
    }
   ],
   "source": [
    "df[['movie_title', 'movie_info', 'sentiment']].sort_values(by='sentiment').head(10)"
   ]
  },
  {
   "cell_type": "code",
   "execution_count": null,
   "id": "894889c7-ebb2-46e0-bf6d-17f373654681",
   "metadata": {},
   "outputs": [],
   "source": []
  }
 ],
 "metadata": {
  "kernelspec": {
   "display_name": "Python 3 (ipykernel)",
   "language": "python",
   "name": "python3"
  },
  "language_info": {
   "codemirror_mode": {
    "name": "ipython",
    "version": 3
   },
   "file_extension": ".py",
   "mimetype": "text/x-python",
   "name": "python",
   "nbconvert_exporter": "python",
   "pygments_lexer": "ipython3",
   "version": "3.12.11"
  }
 },
 "nbformat": 4,
 "nbformat_minor": 5
}
